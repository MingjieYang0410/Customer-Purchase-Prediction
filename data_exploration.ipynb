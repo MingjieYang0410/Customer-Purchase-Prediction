{
 "cells": [
  {
   "cell_type": "code",
   "execution_count": 1,
   "id": "9699fea5",
   "metadata": {},
   "outputs": [],
   "source": [
    "from util import *\n",
    "import pandas as pd\n",
    "import datetime"
   ]
  },
  {
   "cell_type": "code",
   "execution_count": 2,
   "id": "d7dc300b",
   "metadata": {},
   "outputs": [],
   "source": [
    "# 'province', 'county','brand_code', 'shop_id', 'vender_id'\n",
    "def map_to_id(df, col_name):\n",
    "    for col in col_name:\n",
    "        key = sorted(df[col].unique().tolist())\n",
    "        dict_ = dict(zip(key, range(1, len(key) + 1)))  # 为了给mask留位置 否则0号会被严重影响\n",
    "        df.loc[:, col] = df[col].map(lambda x: dict_[x])\n",
    "\n",
    "    num_items = len(sorted(df[\"item_sku_id\"].drop_duplicates(keep='first'))) + 1\n",
    "    num_cats = len(sorted(df[\"item_third_cate_cd\"].drop_duplicates(keep='first'))) + 1\n",
    "    num_sex = len(sorted(df[\"sex\"].drop_duplicates(keep='first'))) + 1\n",
    "    num_ulevel = len(sorted(df[\"user_level\"].drop_duplicates(keep='first'))) + 1\n",
    "    num_atype = len(sorted(df[\"action_type\"].drop_duplicates(keep='first'))) + 1\n",
    "    num_city = len(sorted(df[\"city\"].drop_duplicates(keep='first'))) + 1\n",
    "\n",
    "    num_province = len(sorted(df[\"province\"].drop_duplicates(keep='first'))) + 1\n",
    "    num_county = len(sorted(df[\"county\"].drop_duplicates(keep='first'))) + 1\n",
    "    num_brand_code = len(sorted(df[\"brand_code\"].drop_duplicates(keep='first'))) + 1\n",
    "    num_shope = len(sorted(df[\"shop_id\"].drop_duplicates(keep='first'))) + 1\n",
    "    num_vender = len(sorted(df[\"vender_id\"].drop_duplicates(keep='first'))) + 1\n",
    "\n",
    "    temp = df[[\"item_sku_id\", \"item_third_cate_cd\"]].sort_values(\"item_sku_id\").drop_duplicates(subset='item_sku_id',\n",
    "                                                                                                keep='first')\n",
    "    cat_list = temp[\"item_third_cate_cd\"].tolist()\n",
    "    return num_items, num_cats, num_sex, num_ulevel, num_atype, num_city, \\\n",
    "           num_province, num_county, num_brand_code, num_shope, num_vender, cat_list"
   ]
  },
  {
   "cell_type": "code",
   "execution_count": 3,
   "id": "3cba1ba6",
   "metadata": {},
   "outputs": [],
   "source": [
    "def _label_trans(x, dic_):\n",
    "    if x in dic_:\n",
    "        return 1\n",
    "    else:\n",
    "        return 0"
   ]
  },
  {
   "cell_type": "code",
   "execution_count": 4,
   "id": "9c87c3a4",
   "metadata": {},
   "outputs": [],
   "source": [
    "def sliding_window_2_basic_form(df, label_start, label_end, inter_start, inter_end, fea_end):\n",
    "    fea_list = []\n",
    "    all_data = []\n",
    "    for i in range(len(label_start)):\n",
    "        # get times\n",
    "        lb_st = df.loc[(df['month'] == label_start[i][0]) & (df['day'] == label_start[i][1]), 'month_day'].values[0]\n",
    "        lb_en = df.loc[(df['month'] == label_end[i][0]) & (df['day'] == label_end[i][1]), 'month_day'].values[0]\n",
    "        cand_st = df.loc[(df['month'] == inter_start[i][0]) & (df['day'] == inter_start[i][1]), 'month_day'].values[0]\n",
    "        cand_en = df.loc[(df['month'] == inter_end[i][0]) & (df['day'] == inter_end[i][1]), 'month_day'].values[0]\n",
    "        fea_position = df.loc[(df['month'] == fea_end[i][0]) & (df['day'] == fea_end[i][1]), 'month_day'].values[0]\n",
    "\n",
    "        cand_bool = (df['month_day'] >= cand_st) & (df['month_day'] <= cand_en)\n",
    "        label_bool = (df['month_day'] >= lb_st) & (df['month_day'] <= lb_en) & (df['action_type'] == 2)\n",
    "        label_bool_click = (df['month_day'] >= lb_st) & (df['month_day'] <= lb_en)\n",
    "\n",
    "        df_inter = df.loc[cand_bool].copy()  # get potential interactions\n",
    "        df_inter = df_inter[['user_log_acct', 'item_sku_id', 'month_day']].copy()\n",
    "        df_inter = df_inter.drop_duplicates(subset=['user_log_acct', 'item_sku_id'])\n",
    "        df_inter = df_inter.loc[(df_inter.item_sku_id.isnull() == False)]  # process\n",
    "\n",
    "        df_label = df.loc[label_bool].copy()  # get interactions of buying\n",
    "        df_label_click = df.loc[label_bool_click].copy()  # get interactions of clicking\n",
    "        label = df_label[['user_log_acct', 'item_sku_id', 'day']].copy()  # process\n",
    "        label_click = df_label_click[['user_log_acct', 'item_sku_id', 'day']].copy()  # process\n",
    "        \n",
    "        # add new columns\n",
    "        df_inter['label'] = 0\n",
    "        df_inter['label_click'] = 0\n",
    "        \n",
    "        df_inter['user_item'] = df_inter['user_log_acct'].astype(str) + '_' + df_inter['item_sku_id'].astype(str)\n",
    "        label['user_item'] = label['user_log_acct'].astype(str) + '_' + label['item_sku_id'].astype(str)\n",
    "        label_click['user_item'] = \\\n",
    "            label_click['user_log_acct'].astype(str) + '_' + label_click['item_sku_id'].astype(str)\n",
    "        \n",
    "        dic_cnt = label['user_item'].value_counts().to_dict()\n",
    "        dic_cnt_click = label_click['user_item'].value_counts().to_dict()\n",
    "        \n",
    "        df_inter['label'] = df_inter['user_item'].apply(lambda x: _label_trans(x, dic_cnt)).values\n",
    "        df_inter['label_click'] = \\\n",
    "            df_inter['user_item'].apply(lambda x: _label_trans(x, dic_cnt_click)).values\n",
    "        \n",
    "        all_data.append(df_inter)\n",
    "        fea_list.append(fea_position)\n",
    "\n",
    "    return all_data, fea_list\n",
    "\n",
    "def get_feature(df, df_basic_list, feature_columns_user, feature_columns_item):\n",
    "    \"\"\"\n",
    "    Input must by the most basic form return by sliding_window\n",
    "    :param df_basic_train: Basic form for training set\n",
    "    :param df_basic_val: Bsic for for validation set\n",
    "    :param how: How many feature required?\n",
    "    :return: merged basic form with other required information\n",
    "    \"\"\"\n",
    "    data_with_feature = []\n",
    "    for df_basic in df_basic_list:\n",
    "        jd_user = df[feature_columns_user].drop_duplicates(['user_log_acct'], keep='first')\n",
    "        jd_item = df[feature_columns_item].drop_duplicates(['item_sku_id'], keep='first')\n",
    "\n",
    "        u_fea_cols = [col for col in jd_user.columns if col not in ['user_log_acct']]\n",
    "        i_fea_cols = [col for col in jd_item.columns if col not in ['item_sku_id']]\n",
    "\n",
    "        df_with_feature = df_basic.merge(jd_user, on='user_log_acct', how='left')  # Merge with basic\n",
    "        df_with_feature = df_with_feature.merge(jd_item, on='item_sku_id',how='left')\n",
    "\n",
    "#        neg_df_train = df_with_feature[df_with_feature.label_click == 0].reset_index(drop=True)\n",
    "#        pos_df_train = df_with_feature[df_with_feature.label_click != 0].reset_index(drop=True)\n",
    "#        neg_df_train = neg_df_train.sample(n=int(len(pos_df_train) * 5))  # Down Sampling\n",
    "#        df_with_feature = pd.concat([neg_df_train, pos_df_train], axis=0, ignore_index=True)\n",
    "\n",
    "        data_with_feature.append(df_with_feature)\n",
    "    return data_with_feature\n",
    "\n",
    "def get_history_convert_type(df, df_withfea_mapped, fea_range_list):\n",
    "    \"\"\"\n",
    "    This function is used to get the historical interaction of user\n",
    "    :param df_train: output of get_feature\n",
    "    :param df_val: output of get_feature\n",
    "    :param train_fea_range:output of sliding_window\n",
    "    :param val_fea_range: output of sliding_window\n",
    "    :return: merged DataFrame from get_feature with additional users' historical info\n",
    "    \"\"\"\n",
    "    df_final = []\n",
    "    for i, df_sub in enumerate(df_withfea_mapped):\n",
    "        ind_fea = (df['month_day'] <= fea_range_list[i])\n",
    "        data_fea = df.loc[ind_fea].copy()\n",
    "\n",
    "        df_sub.sort_values(['user_log_acct', 'month_day'], inplace=True)\n",
    "        data_fea.sort_values(['user_log_acct', 'month_day'], inplace=True)\n",
    "\n",
    "        item_seq = data_fea.groupby(['user_log_acct'])['item_sku_id'].agg(list).reset_index()\n",
    "        item_seq.columns = ['user_log_acct', 'item_seq']\n",
    "        df_sub = df_sub.merge(item_seq, on='user_log_acct', how='left')\n",
    "\n",
    "        cate_seq = data_fea.groupby(['user_log_acct'])['item_third_cate_cd'].agg(list).reset_index()\n",
    "        cate_seq.columns = ['user_log_acct', 'cate_seq']\n",
    "        df_sub = df_sub.merge(cate_seq, on='user_log_acct', how='left')\n",
    "\n",
    "        type_seq = data_fea.groupby(['user_log_acct'])['action_type'].agg(list).reset_index()\n",
    "        type_seq.columns = ['user_log_acct', 'type_seq']\n",
    "        df_sub = df_sub.merge(type_seq, on='user_log_acct', how='left')\n",
    "\n",
    "        df_sub = df_sub.loc[(df_sub.item_seq.isnull() == False)]  # process\n",
    "        df_final.append(df_sub)\n",
    "\n",
    "    return df_final\n",
    "\n",
    "\n",
    "def map_user_to_id(df_final):\n",
    "    df_all = pd.concat(df_final, axis=0, ignore_index=True)\n",
    "    key = sorted(df_all[\"user_log_acct\"].unique().tolist())\n",
    "    num_users = len(key)\n",
    "    dict_ = dict(zip(key, range(len(key))))\n",
    "    for i in range(len(df_final)):\n",
    "        df_final[i].loc[:, \"user_log_acct\"] = df_final[i][\"user_log_acct\"].map(lambda x: dict_[x])\n",
    "\n",
    "    return num_users\n",
    "\n",
    "def gen_item_feats(df_item, df_final):\n",
    "    df_item_fea = df_item.copy()\n",
    "\n",
    "    for col in ['item_third_cate_cd', 'vender_id']:\n",
    "        dic_ = df_item[col].value_counts().to_dict()\n",
    "        df_item_fea['{}_cnt'.format(col)] = df_item_fea[col].map(dic_).values\n",
    "\n",
    "    for col in ['shop_score']:\n",
    "        dic_ = df_item.groupby('item_third_cate_cd')[col].mean().to_dict()\n",
    "        df_item_fea['cate_{}_mean'.format(col)] = df_item_fea['item_third_cate_cd'].map(dic_).values\n",
    "\n",
    "    for col in ['item_sku_id', 'brand_code']:\n",
    "        dic_ = df_item.groupby('shop_id')[col].nunique()\n",
    "        df_item_fea['shop_id_{}_nunique'.format(col)] = df_item_fea['shop_id'].map(dic_).values\n",
    "\n",
    "    for col in ['item_sku_id', 'brand_code']:\n",
    "        dic_ = df_item.groupby('item_third_cate_cd')[col].nunique()\n",
    "        df_item_fea['item_third_cate_cd_{}_nunique'.format(col)] = df_item_fea['item_third_cate_cd'].map(dic_).values\n",
    "\n",
    "    del df_item_fea['item_third_cate_cd']\n",
    "    del df_item_fea['shop_id']\n",
    "    del df_item_fea['brand_code']\n",
    "    del df_item_fea['vender_id']\n",
    "    df_with_item_fea = []\n",
    "    for df in df_final:\n",
    "        temp = df.merge(df_item_fea, on='item_sku_id', how='left')\n",
    "        df_with_item_fea.append(temp)\n",
    "\n",
    "    return df_with_item_fea"
   ]
  },
  {
   "cell_type": "code",
   "execution_count": 5,
   "id": "74f14045",
   "metadata": {},
   "outputs": [],
   "source": [
    "df = load_data((\"./ddata/merged_DataFrame_fillna.pkl\"))\n",
    "\n",
    "col = [\"item_sku_id\", \"item_third_cate_cd\", \"sex\",\n",
    "       \"action_type\", \"city\", \"user_level\", 'province', 'county','brand_code', 'shop_id', 'vender_id']"
   ]
  },
  {
   "cell_type": "code",
   "execution_count": 6,
   "id": "65b9b441",
   "metadata": {},
   "outputs": [],
   "source": [
    "num_items, num_cats, num_sex, num_ulevel, num_atype, num_city, num_province, \\\n",
    "    num_county, num_brand_code, num_shope,num_vender, cat_list = map_to_id(df, col)"
   ]
  },
  {
   "cell_type": "code",
   "execution_count": 7,
   "id": "55369d14",
   "metadata": {},
   "outputs": [],
   "source": [
    "label_start = [(4, 6), (4,3),(3,31), (3,28), (3,25), (3,22), (3,19), (3, 16), (3, 13), (3, 10), (3, 7), (3, 4), (3, 1)]\n",
    "label_end = [(4, 15),(4,12),(4,9), (4, 6), (4,3), (3,31), (3,28),  (3,25),  (3, 22), (3,19), (3, 16), (3,13), (3,10)]\n",
    "inter_start = [(4, 3), (3,31),(3,28), (3,25), (3,22), (3,19), (3,16), (3, 13), (3, 10), (3, 7), (3, 4), (3, 1), (2, 26)]\n",
    "inter_end = [(4, 5), (4,2),(3,30), (3,27), (3,24), (3,21), (3,18), (3, 15), (3, 12), (3, 9), (3, 6), (3, 3),(2,28)]\n",
    "fea_end = [(4, 5), (4,2),(3,30), (3,27), (3,24), (3,21), (3,18), (3, 15), (3, 12), (3, 9), (3, 6), (3, 3), (2,28)]"
   ]
  },
  {
   "cell_type": "code",
   "execution_count": 8,
   "id": "8dd9c53e",
   "metadata": {},
   "outputs": [],
   "source": [
    "all_data, fea_list = sliding_window_2_basic_form(df, label_start, label_end, inter_start, inter_end, fea_end)"
   ]
  },
  {
   "cell_type": "code",
   "execution_count": 9,
   "id": "55d8ce57",
   "metadata": {},
   "outputs": [
    {
     "name": "stdout",
     "output_type": "stream",
     "text": [
      "10609\n",
      "161273\n"
     ]
    }
   ],
   "source": [
    "print(len(all_data[0].loc[all_data[0][\"label\"] == 1]))\n",
    "print(len(all_data[0].loc[all_data[0][\"label_click\"] == 1]))"
   ]
  },
  {
   "cell_type": "code",
   "execution_count": 10,
   "id": "8b385f8c",
   "metadata": {},
   "outputs": [
    {
     "data": {
      "text/html": [
       "<div>\n",
       "<style scoped>\n",
       "    .dataframe tbody tr th:only-of-type {\n",
       "        vertical-align: middle;\n",
       "    }\n",
       "\n",
       "    .dataframe tbody tr th {\n",
       "        vertical-align: top;\n",
       "    }\n",
       "\n",
       "    .dataframe thead th {\n",
       "        text-align: right;\n",
       "    }\n",
       "</style>\n",
       "<table border=\"1\" class=\"dataframe\">\n",
       "  <thead>\n",
       "    <tr style=\"text-align: right;\">\n",
       "      <th></th>\n",
       "      <th>user_log_acct</th>\n",
       "      <th>item_sku_id</th>\n",
       "      <th>month_day</th>\n",
       "      <th>label</th>\n",
       "      <th>label_click</th>\n",
       "      <th>user_item</th>\n",
       "    </tr>\n",
       "  </thead>\n",
       "  <tbody>\n",
       "    <tr>\n",
       "      <th>4787615</th>\n",
       "      <td>1120803</td>\n",
       "      <td>352752</td>\n",
       "      <td>403</td>\n",
       "      <td>0</td>\n",
       "      <td>0</td>\n",
       "      <td>1120803_352752</td>\n",
       "    </tr>\n",
       "    <tr>\n",
       "      <th>23106730</th>\n",
       "      <td>1260789</td>\n",
       "      <td>305534</td>\n",
       "      <td>403</td>\n",
       "      <td>0</td>\n",
       "      <td>0</td>\n",
       "      <td>1260789_305534</td>\n",
       "    </tr>\n",
       "    <tr>\n",
       "      <th>25168318</th>\n",
       "      <td>841504</td>\n",
       "      <td>257980</td>\n",
       "      <td>403</td>\n",
       "      <td>0</td>\n",
       "      <td>0</td>\n",
       "      <td>841504_257980</td>\n",
       "    </tr>\n",
       "    <tr>\n",
       "      <th>1806393</th>\n",
       "      <td>608924</td>\n",
       "      <td>2805</td>\n",
       "      <td>403</td>\n",
       "      <td>0</td>\n",
       "      <td>0</td>\n",
       "      <td>608924_2805</td>\n",
       "    </tr>\n",
       "    <tr>\n",
       "      <th>25125569</th>\n",
       "      <td>1311511</td>\n",
       "      <td>62558</td>\n",
       "      <td>403</td>\n",
       "      <td>0</td>\n",
       "      <td>1</td>\n",
       "      <td>1311511_62558</td>\n",
       "    </tr>\n",
       "    <tr>\n",
       "      <th>...</th>\n",
       "      <td>...</td>\n",
       "      <td>...</td>\n",
       "      <td>...</td>\n",
       "      <td>...</td>\n",
       "      <td>...</td>\n",
       "      <td>...</td>\n",
       "    </tr>\n",
       "    <tr>\n",
       "      <th>10660209</th>\n",
       "      <td>1024110</td>\n",
       "      <td>73063</td>\n",
       "      <td>405</td>\n",
       "      <td>0</td>\n",
       "      <td>0</td>\n",
       "      <td>1024110_73063</td>\n",
       "    </tr>\n",
       "    <tr>\n",
       "      <th>29897461</th>\n",
       "      <td>964556</td>\n",
       "      <td>91146</td>\n",
       "      <td>405</td>\n",
       "      <td>0</td>\n",
       "      <td>0</td>\n",
       "      <td>964556_91146</td>\n",
       "    </tr>\n",
       "    <tr>\n",
       "      <th>36007636</th>\n",
       "      <td>1519403</td>\n",
       "      <td>19142</td>\n",
       "      <td>405</td>\n",
       "      <td>0</td>\n",
       "      <td>0</td>\n",
       "      <td>1519403_19142</td>\n",
       "    </tr>\n",
       "    <tr>\n",
       "      <th>2215539</th>\n",
       "      <td>892092</td>\n",
       "      <td>166818</td>\n",
       "      <td>405</td>\n",
       "      <td>0</td>\n",
       "      <td>0</td>\n",
       "      <td>892092_166818</td>\n",
       "    </tr>\n",
       "    <tr>\n",
       "      <th>139552</th>\n",
       "      <td>1016994</td>\n",
       "      <td>23190</td>\n",
       "      <td>405</td>\n",
       "      <td>0</td>\n",
       "      <td>0</td>\n",
       "      <td>1016994_23190</td>\n",
       "    </tr>\n",
       "  </tbody>\n",
       "</table>\n",
       "<p>1013151 rows × 6 columns</p>\n",
       "</div>"
      ],
      "text/plain": [
       "          user_log_acct  item_sku_id  month_day  label  label_click  \\\n",
       "4787615         1120803       352752        403      0            0   \n",
       "23106730        1260789       305534        403      0            0   \n",
       "25168318         841504       257980        403      0            0   \n",
       "1806393          608924         2805        403      0            0   \n",
       "25125569        1311511        62558        403      0            1   \n",
       "...                 ...          ...        ...    ...          ...   \n",
       "10660209        1024110        73063        405      0            0   \n",
       "29897461         964556        91146        405      0            0   \n",
       "36007636        1519403        19142        405      0            0   \n",
       "2215539          892092       166818        405      0            0   \n",
       "139552          1016994        23190        405      0            0   \n",
       "\n",
       "               user_item  \n",
       "4787615   1120803_352752  \n",
       "23106730  1260789_305534  \n",
       "25168318   841504_257980  \n",
       "1806393      608924_2805  \n",
       "25125569   1311511_62558  \n",
       "...                  ...  \n",
       "10660209   1024110_73063  \n",
       "29897461    964556_91146  \n",
       "36007636   1519403_19142  \n",
       "2215539    892092_166818  \n",
       "139552     1016994_23190  \n",
       "\n",
       "[1013151 rows x 6 columns]"
      ]
     },
     "execution_count": 10,
     "metadata": {},
     "output_type": "execute_result"
    }
   ],
   "source": [
    "all_data[0]"
   ]
  },
  {
   "cell_type": "code",
   "execution_count": 11,
   "id": "2b0b25e0",
   "metadata": {},
   "outputs": [],
   "source": [
    "user_side_columns = [\"user_log_acct\", \"sex\", \"city\", \"user_level\", 'province', 'county']\n",
    "item_side_columns = [\"item_sku_id\", \"item_third_cate_cd\",'brand_code', 'shop_id', 'vender_id']\n",
    "df_with_feature = get_feature(df, all_data, user_side_columns, item_side_columns)"
   ]
  },
  {
   "cell_type": "code",
   "execution_count": 12,
   "id": "150d927d",
   "metadata": {},
   "outputs": [],
   "source": [
    "df_final = get_history_convert_type(df, df_with_feature, fea_list)"
   ]
  },
  {
   "cell_type": "code",
   "execution_count": 13,
   "id": "e6d3325f",
   "metadata": {},
   "outputs": [],
   "source": [
    "jd_item = df[['item_sku_id','brand_code','shop_id','item_third_cate_cd','vender_id','shop_score']].\\\n",
    "    drop_duplicates(['item_sku_id'], keep='first')"
   ]
  },
  {
   "cell_type": "code",
   "execution_count": 14,
   "id": "4aaadd8e",
   "metadata": {},
   "outputs": [],
   "source": [
    "df_final = gen_item_feats(jd_item, df_final)"
   ]
  },
  {
   "cell_type": "code",
   "execution_count": 15,
   "id": "8a0bbc7b",
   "metadata": {},
   "outputs": [],
   "source": [
    "store_data(df_final,\"./ddata/start_data/df_final.pkl\")"
   ]
  },
  {
   "cell_type": "code",
   "execution_count": 16,
   "id": "ade3e501",
   "metadata": {},
   "outputs": [],
   "source": [
    "num_users = map_user_to_id(df_final)\n",
    "store_data(num_users, \"./ddata/start_data/num_users.pkl\")\n",
    "store_data(num_items, \"./ddata/start_data/num_items.pkl\")\n",
    "store_data(num_cats, \"./ddata/start_data/num_cats.pkl\")\n",
    "store_data(num_sex, \"./ddata/start_data/num_sex.pkl\")\n",
    "store_data(num_ulevel, \"./ddata/start_data/num_ulevel.pkl\")\n",
    "store_data(num_atype, \"./ddata/start_data/num_atype.pkl\")\n",
    "store_data(num_city, \"./ddata/start_data/num_city.pkl\")\n",
    "\n",
    "store_data(num_province, \"./ddata/start_data/num_province.pkl\")\n",
    "store_data(num_county, \"./ddata/start_data/num_county.pkl\")\n",
    "store_data(num_brand_code, \"./ddata/start_data/num_brand_code.pkl\")\n",
    "store_data(num_shope, \"./ddata/start_data/num_shope.pkl\")\n",
    "store_data(num_vender, \"./ddata/start_data/num_vender.pkl\")\n",
    "\n",
    "store_data(cat_list, \"./ddata/start_data/cat_list.pkl\")"
   ]
  },
  {
   "cell_type": "code",
   "execution_count": 2,
   "id": "4942b4f4",
   "metadata": {},
   "outputs": [],
   "source": [
    "test = load_data(\"./ddata/start_data/df_final.pkl\")"
   ]
  },
  {
   "cell_type": "code",
   "execution_count": 3,
   "id": "3e6d27fb",
   "metadata": {},
   "outputs": [],
   "source": [
    "data = pd.concat(test)"
   ]
  },
  {
   "cell_type": "code",
   "execution_count": 8,
   "id": "7e12dfe8",
   "metadata": {},
   "outputs": [
    {
     "data": {
      "text/plain": [
       "0.00974323656823539"
      ]
     },
     "execution_count": 8,
     "metadata": {},
     "output_type": "execute_result"
    }
   ],
   "source": [
    "len(data.loc[data[\"label\"] == 1]) / len(data)"
   ]
  },
  {
   "cell_type": "code",
   "execution_count": 9,
   "id": "10e15811",
   "metadata": {},
   "outputs": [
    {
     "data": {
      "text/plain": [
       "0.153069759923568"
      ]
     },
     "execution_count": 9,
     "metadata": {},
     "output_type": "execute_result"
    }
   ],
   "source": [
    "len(data.loc[data[\"label_click\"] == 1]) / len(data)"
   ]
  },
  {
   "cell_type": "code",
   "execution_count": 11,
   "id": "70bf90c5",
   "metadata": {},
   "outputs": [
    {
     "data": {
      "text/plain": [
       "405"
      ]
     },
     "execution_count": 11,
     "metadata": {},
     "output_type": "execute_result"
    }
   ],
   "source": [
    "data[\"month_day\"].max()"
   ]
  },
  {
   "cell_type": "code",
   "execution_count": null,
   "id": "c747f5fd",
   "metadata": {},
   "outputs": [],
   "source": []
  }
 ],
 "metadata": {
  "kernelspec": {
   "display_name": "Python 3 (ipykernel)",
   "language": "python",
   "name": "python3"
  },
  "language_info": {
   "codemirror_mode": {
    "name": "ipython",
    "version": 3
   },
   "file_extension": ".py",
   "mimetype": "text/x-python",
   "name": "python",
   "nbconvert_exporter": "python",
   "pygments_lexer": "ipython3",
   "version": "3.7.12"
  }
 },
 "nbformat": 4,
 "nbformat_minor": 5
}
